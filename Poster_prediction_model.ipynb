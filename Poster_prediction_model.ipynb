{
 "cells": [
  {
   "cell_type": "code",
   "execution_count": 21,
   "metadata": {},
   "outputs": [],
   "source": [
    "import numpy as np\n",
    "import pandas as pd\n",
    "import tensorflow as tf\n",
    "import tensorflow.keras.layers as tfl\n",
    "from sklearn.metrics import classification_report"
   ]
  },
  {
   "cell_type": "code",
   "execution_count": 22,
   "metadata": {},
   "outputs": [
    {
     "name": "stdout",
     "output_type": "stream",
     "text": [
      "32892\n"
     ]
    },
    {
     "data": {
      "text/html": [
       "<div>\n",
       "<style scoped>\n",
       "    .dataframe tbody tr th:only-of-type {\n",
       "        vertical-align: middle;\n",
       "    }\n",
       "\n",
       "    .dataframe tbody tr th {\n",
       "        vertical-align: top;\n",
       "    }\n",
       "\n",
       "    .dataframe thead th {\n",
       "        text-align: right;\n",
       "    }\n",
       "</style>\n",
       "<table border=\"1\" class=\"dataframe\">\n",
       "  <thead>\n",
       "    <tr style=\"text-align: right;\">\n",
       "      <th></th>\n",
       "      <th>movieId</th>\n",
       "      <th>imdbId</th>\n",
       "      <th>tmdbId</th>\n",
       "    </tr>\n",
       "  </thead>\n",
       "  <tbody>\n",
       "    <tr>\n",
       "      <th>0</th>\n",
       "      <td>604</td>\n",
       "      <td>115978</td>\n",
       "      <td>NaN</td>\n",
       "    </tr>\n",
       "    <tr>\n",
       "      <th>1</th>\n",
       "      <td>644</td>\n",
       "      <td>116485</td>\n",
       "      <td>339428.0</td>\n",
       "    </tr>\n",
       "    <tr>\n",
       "      <th>2</th>\n",
       "      <td>654</td>\n",
       "      <td>118026</td>\n",
       "      <td>278978.0</td>\n",
       "    </tr>\n",
       "    <tr>\n",
       "      <th>3</th>\n",
       "      <td>721</td>\n",
       "      <td>114103</td>\n",
       "      <td>NaN</td>\n",
       "    </tr>\n",
       "    <tr>\n",
       "      <th>4</th>\n",
       "      <td>727</td>\n",
       "      <td>114894</td>\n",
       "      <td>365371.0</td>\n",
       "    </tr>\n",
       "  </tbody>\n",
       "</table>\n",
       "</div>"
      ],
      "text/plain": [
       "   movieId  imdbId    tmdbId\n",
       "0      604  115978       NaN\n",
       "1      644  116485  339428.0\n",
       "2      654  118026  278978.0\n",
       "3      721  114103       NaN\n",
       "4      727  114894  365371.0"
      ]
     },
     "execution_count": 22,
     "metadata": {},
     "output_type": "execute_result"
    }
   ],
   "source": [
    "film_data = pd.read_csv('movie.csv', encoding = 'latin-1')\n",
    "remove_data = pd.read_csv('NoPosterFound_Links.csv')\n",
    "genre_data = film_data['genres'].to_numpy()\n",
    "id_data = film_data['movieId'].to_numpy()\n",
    "l = []\n",
    "for i in genre_data:\n",
    "    l = l + str(i).split('|')\n",
    "s = list(set(l))\n",
    "s.sort()\n",
    "s.pop(0)\n",
    "remove_data_id = remove_data['movieId'].to_numpy()\n",
    "print(id_data[10000])\n",
    "film_data.head(5)\n",
    "remove_data.head(5)"
   ]
  },
  {
   "cell_type": "code",
   "execution_count": 6,
   "metadata": {},
   "outputs": [
    {
     "name": "stdout",
     "output_type": "stream",
     "text": [
      "26938\n",
      "Adventure|Children|Fantasy\n",
      "(26938, 19)\n"
     ]
    }
   ],
   "source": [
    "print(len(genre_data))\n",
    "print(genre_data[1])\n",
    "genres = np.zeros((26938, 19))\n",
    "for i in range(len(genre_data)):\n",
    "    for j in str(genre_data[i]).split('|'):\n",
    "        for k in range(len(s)):\n",
    "            if j == s[k]:\n",
    "                genres[i][k] = 1\n",
    "print(genres.shape)"
   ]
  },
  {
   "cell_type": "code",
   "execution_count": 7,
   "metadata": {},
   "outputs": [
    {
     "name": "stdout",
     "output_type": "stream",
     "text": [
      "(26938, 19)\n"
     ]
    }
   ],
   "source": [
    "index = []\n",
    "for i in remove_data_id:\n",
    "    index.append(np.where(id_data == i))\n",
    "id_data = np.delete(id_data, index)\n",
    "genre_data = np.delete(genre_data, index)\n",
    "print(genres.shape)"
   ]
  },
  {
   "cell_type": "code",
   "execution_count": 8,
   "metadata": {},
   "outputs": [
    {
     "name": "stdout",
     "output_type": "stream",
     "text": [
      "Found 26938 files belonging to 1 classes.\n",
      "Using 18857 files for training.\n",
      "Found 26938 files belonging to 1 classes.\n",
      "Using 8081 files for validation.\n"
     ]
    }
   ],
   "source": [
    "dataset_training = tf.keras.preprocessing.image_dataset_from_directory(\n",
    "        directory = 'MLP-20M', labels = genres[:].tolist(), label_mode = 'int',\n",
    "        color_mode='rgb', batch_size=32, image_size=(150,\n",
    "        150), validation_split = 0.3, subset = \"training\", shuffle=True, seed=42)\n",
    "dataset_test = tf.keras.preprocessing.image_dataset_from_directory(\n",
    "        directory = 'MLP-20M', labels = genres[:].tolist(), label_mode = 'int',\n",
    "        color_mode='rgb', batch_size=32, image_size=(150,\n",
    "        150), validation_split = 0.3, subset = \"validation\", shuffle=True, seed=42)"
   ]
  },
  {
   "cell_type": "code",
   "execution_count": 9,
   "metadata": {},
   "outputs": [],
   "source": [
    "def poster_model():\n",
    "    poster_shape = (150, 150, 3)\n",
    "    base_model = tf.keras.applications.ResNet50(include_top = False, weights = 'imagenet', input_shape = poster_shape)\n",
    "    base_model.trainable = False\n",
    "    input_layer = tf.keras.Input(poster_shape)\n",
    "    x = tf.keras.applications.resnet.preprocess_input(input_layer)\n",
    "    x = base_model(x, training = False)\n",
    "    x = tfl.GlobalAveragePooling2D()(x)\n",
    "    x = tfl.Dropout(0.2)(x)\n",
    "    prediction_layer = tfl.Dense(19, 'sigmoid')\n",
    "    outputs = prediction_layer(x) \n",
    "    model = tf.keras.Model(input_layer, outputs)\n",
    "    return model"
   ]
  },
  {
   "cell_type": "code",
   "execution_count": 10,
   "metadata": {},
   "outputs": [
    {
     "name": "stdout",
     "output_type": "stream",
     "text": [
      "Model: \"model\"\n",
      "_________________________________________________________________\n",
      "Layer (type)                 Output Shape              Param #   \n",
      "=================================================================\n",
      "input_2 (InputLayer)         [(None, 150, 150, 3)]     0         \n",
      "_________________________________________________________________\n",
      "tf.__operators__.getitem (Sl (None, 150, 150, 3)       0         \n",
      "_________________________________________________________________\n",
      "tf.nn.bias_add (TFOpLambda)  (None, 150, 150, 3)       0         \n",
      "_________________________________________________________________\n",
      "resnet50 (Functional)        (None, 5, 5, 2048)        23587712  \n",
      "_________________________________________________________________\n",
      "global_average_pooling2d (Gl (None, 2048)              0         \n",
      "_________________________________________________________________\n",
      "dropout (Dropout)            (None, 2048)              0         \n",
      "_________________________________________________________________\n",
      "dense (Dense)                (None, 19)                38931     \n",
      "=================================================================\n",
      "Total params: 23,626,643\n",
      "Trainable params: 38,931\n",
      "Non-trainable params: 23,587,712\n",
      "_________________________________________________________________\n",
      "None\n"
     ]
    }
   ],
   "source": [
    "model = poster_model()\n",
    "print(model.summary())"
   ]
  },
  {
   "cell_type": "code",
   "execution_count": 11,
   "metadata": {},
   "outputs": [],
   "source": [
    "base_learning_rate = 0.01\n",
    "model.compile(optimizer=tf.keras.optimizers.Adam(learning_rate=base_learning_rate),\n",
    "                  loss=tf.keras.losses.BinaryCrossentropy(from_logits=True),\n",
    "                  metrics=['accuracy'])"
   ]
  },
  {
   "cell_type": "code",
   "execution_count": 12,
   "metadata": {},
   "outputs": [
    {
     "name": "stdout",
     "output_type": "stream",
     "text": [
      "Epoch 1/3\n",
      "590/590 [==============================] - 863s 1s/step - loss: 0.6610 - accuracy: 0.1680\n",
      "Epoch 2/3\n",
      "590/590 [==============================] - 329s 558ms/step - loss: 0.6326 - accuracy: 0.1746\n",
      "Epoch 3/3\n",
      "590/590 [==============================] - 328s 555ms/step - loss: 0.6526 - accuracy: 0.1643\n"
     ]
    }
   ],
   "source": [
    "initial_epochs = 3\n",
    "history = model.fit(dataset_training , epochs=initial_epochs)"
   ]
  },
  {
   "cell_type": "code",
   "execution_count": 13,
   "metadata": {},
   "outputs": [
    {
     "name": "stdout",
     "output_type": "stream",
     "text": [
      "253/253 [==============================] - 370s 1s/step - loss: 0.6483 - accuracy: 0.1636\n"
     ]
    },
    {
     "data": {
      "text/plain": [
       "[0.6482888460159302, 0.1635936200618744]"
      ]
     },
     "execution_count": 13,
     "metadata": {},
     "output_type": "execute_result"
    }
   ],
   "source": [
    "model.evaluate(dataset_test)\n",
    "test_pred = model.predict(dataset_test)"
   ]
  },
  {
   "cell_type": "code",
   "execution_count": 17,
   "metadata": {},
   "outputs": [
    {
     "name": "stdout",
     "output_type": "stream",
     "text": [
      "Found 1 files belonging to 1 classes.\n"
     ]
    }
   ],
   "source": [
    "single_poster_check = tf.keras.preprocessing.image_dataset_from_directory(\n",
    "        directory = 'single_test_image',  label_mode = None,\n",
    "        color_mode='rgb', batch_size=32, image_size=(150,150) ,shuffle=True, seed=42)\n"
   ]
  },
  {
   "cell_type": "code",
   "execution_count": 18,
   "metadata": {},
   "outputs": [
    {
     "name": "stdout",
     "output_type": "stream",
     "text": [
      "[[9.98530626e-01 9.64655280e-01 5.47164679e-03 1.45521586e-08\n",
      "  6.99463248e-01 3.93417478e-03 1.67012215e-04 4.15668160e-01\n",
      "  2.77617382e-05 1.06883266e-10 3.28252614e-02 1.31131260e-11\n",
      "  9.88863321e-05 4.30333912e-02 9.70454931e-01 3.43249440e-02\n",
      "  7.38859177e-02 6.50233414e-05 2.52950191e-03]]\n"
     ]
    }
   ],
   "source": [
    "single_pred = np.where(single_poster_check > 0.5, s)\n",
    "print(single_pred)"
   ]
  },
  {
   "cell_type": "code",
   "execution_count": 17,
   "metadata": {},
   "outputs": [
    {
     "name": "stdout",
     "output_type": "stream",
     "text": [
      "(19, 8081)\n"
     ]
    }
   ],
   "source": [
    "test_pred_bool = np.where(test_pred[:, 0] > 0.5, 1, 0)\n",
    "for i in range(1, 19):\n",
    "    temp = np.where(test_pred[:, i] > 0.5, 1, 0)\n",
    "    test_pred_bool = np.vstack([test_pred_bool, temp])\n",
    "print(test_pred_bool.shape)"
   ]
  },
  {
   "cell_type": "code",
   "execution_count": 18,
   "metadata": {},
   "outputs": [],
   "source": [
    "y = np.concatenate([y for x, y in dataset_test], axis=0)"
   ]
  },
  {
   "cell_type": "code",
   "execution_count": 19,
   "metadata": {},
   "outputs": [
    {
     "name": "stdout",
     "output_type": "stream",
     "text": [
      "Action\n",
      "              precision    recall  f1-score   support\n",
      "\n",
      "         0.0       0.87      0.88      0.88      7086\n",
      "         1.0       0.11      0.10      0.10       995\n",
      "\n",
      "    accuracy                           0.79      8081\n",
      "   macro avg       0.49      0.49      0.49      8081\n",
      "weighted avg       0.78      0.79      0.78      8081\n",
      "\n",
      "Adventure\n",
      "              precision    recall  f1-score   support\n",
      "\n",
      "         0.0       0.91      0.75      0.82      7396\n",
      "         1.0       0.08      0.25      0.12       685\n",
      "\n",
      "    accuracy                           0.71      8081\n",
      "   macro avg       0.50      0.50      0.47      8081\n",
      "weighted avg       0.84      0.71      0.76      8081\n",
      "\n",
      "Animation\n",
      "              precision    recall  f1-score   support\n",
      "\n",
      "         0.0       0.96      1.00      0.98      7776\n",
      "         1.0       0.04      0.00      0.01       305\n",
      "\n",
      "    accuracy                           0.96      8081\n",
      "   macro avg       0.50      0.50      0.49      8081\n",
      "weighted avg       0.93      0.96      0.94      8081\n",
      "\n",
      "Children\n",
      "              precision    recall  f1-score   support\n",
      "\n",
      "         0.0       0.96      1.00      0.98      7750\n",
      "         1.0       0.00      0.00      0.00       331\n",
      "\n",
      "    accuracy                           0.96      8081\n",
      "   macro avg       0.48      0.50      0.49      8081\n",
      "weighted avg       0.92      0.96      0.94      8081\n",
      "\n",
      "Comedy\n",
      "              precision    recall  f1-score   support\n",
      "\n",
      "         0.0       0.69      0.38      0.49      5574\n",
      "         1.0       0.31      0.62      0.42      2507\n",
      "\n",
      "    accuracy                           0.46      8081\n",
      "   macro avg       0.50      0.50      0.45      8081\n",
      "weighted avg       0.57      0.46      0.47      8081\n",
      "\n",
      "Crime\n",
      "              precision    recall  f1-score   support\n",
      "\n",
      "         0.0       0.89      0.97      0.93      7224\n",
      "         1.0       0.13      0.03      0.05       857\n",
      "\n",
      "    accuracy                           0.87      8081\n",
      "   macro avg       0.51      0.50      0.49      8081\n",
      "weighted avg       0.81      0.87      0.84      8081\n",
      "\n",
      "Documentary\n",
      "              precision    recall  f1-score   support\n",
      "\n",
      "         0.0       0.91      0.85      0.88      7368\n",
      "         1.0       0.11      0.18      0.13       713\n",
      "\n",
      "    accuracy                           0.80      8081\n",
      "   macro avg       0.51      0.52      0.51      8081\n",
      "weighted avg       0.84      0.80      0.82      8081\n",
      "\n",
      "Drama\n",
      "              precision    recall  f1-score   support\n",
      "\n",
      "         0.0       0.51      0.87      0.64      4105\n",
      "         1.0       0.51      0.14      0.22      3976\n",
      "\n",
      "    accuracy                           0.51      8081\n",
      "   macro avg       0.51      0.51      0.43      8081\n",
      "weighted avg       0.51      0.51      0.44      8081\n",
      "\n",
      "Fantasy\n",
      "              precision    recall  f1-score   support\n",
      "\n",
      "         0.0       0.95      1.00      0.97      7648\n",
      "         1.0       0.14      0.01      0.02       433\n",
      "\n",
      "    accuracy                           0.94      8081\n",
      "   macro avg       0.54      0.50      0.50      8081\n",
      "weighted avg       0.90      0.94      0.92      8081\n",
      "\n",
      "Film-Noir\n",
      "              precision    recall  f1-score   support\n",
      "\n",
      "         0.0       0.99      1.00      0.99      7971\n",
      "         1.0       1.00      0.01      0.02       110\n",
      "\n",
      "    accuracy                           0.99      8081\n",
      "   macro avg       0.99      0.50      0.51      8081\n",
      "weighted avg       0.99      0.99      0.98      8081\n",
      "\n",
      "Horror\n",
      "              precision    recall  f1-score   support\n",
      "\n",
      "         0.0       0.90      0.90      0.90      7269\n",
      "         1.0       0.12      0.12      0.12       812\n",
      "\n",
      "    accuracy                           0.82      8081\n",
      "   macro avg       0.51      0.51      0.51      8081\n",
      "weighted avg       0.82      0.82      0.82      8081\n",
      "\n",
      "IMAX\n",
      "              precision    recall  f1-score   support\n",
      "\n",
      "         0.0       0.99      1.00      1.00      8022\n",
      "         1.0       0.08      0.02      0.03        59\n",
      "\n",
      "    accuracy                           0.99      8081\n",
      "   macro avg       0.53      0.51      0.51      8081\n",
      "weighted avg       0.99      0.99      0.99      8081\n",
      "\n",
      "Musical\n",
      "              precision    recall  f1-score   support\n",
      "\n",
      "         0.0       0.96      1.00      0.98      7776\n",
      "         1.0       0.00      0.00      0.00       305\n",
      "\n",
      "    accuracy                           0.96      8081\n",
      "   macro avg       0.48      0.50      0.49      8081\n",
      "weighted avg       0.93      0.96      0.94      8081\n",
      "\n",
      "Mystery\n",
      "              precision    recall  f1-score   support\n",
      "\n",
      "         0.0       0.95      0.95      0.95      7643\n",
      "         1.0       0.06      0.05      0.05       438\n",
      "\n",
      "    accuracy                           0.90      8081\n",
      "   macro avg       0.50      0.50      0.50      8081\n",
      "weighted avg       0.90      0.90      0.90      8081\n",
      "\n",
      "Romance\n",
      "              precision    recall  f1-score   support\n",
      "\n",
      "         0.0       0.85      0.73      0.78      6863\n",
      "         1.0       0.16      0.29      0.20      1218\n",
      "\n",
      "    accuracy                           0.66      8081\n",
      "   macro avg       0.50      0.51      0.49      8081\n",
      "weighted avg       0.75      0.66      0.70      8081\n",
      "\n",
      "Sci-Fi\n",
      "              precision    recall  f1-score   support\n",
      "\n",
      "         0.0       0.94      0.99      0.96      7555\n",
      "         1.0       0.10      0.02      0.03       526\n",
      "\n",
      "    accuracy                           0.92      8081\n",
      "   macro avg       0.52      0.50      0.50      8081\n",
      "weighted avg       0.88      0.92      0.90      8081\n",
      "\n",
      "Thriller\n",
      "              precision    recall  f1-score   support\n",
      "\n",
      "         0.0       0.85      0.99      0.91      6843\n",
      "         1.0       0.15      0.01      0.02      1238\n",
      "\n",
      "    accuracy                           0.84      8081\n",
      "   macro avg       0.50      0.50      0.46      8081\n",
      "weighted avg       0.74      0.84      0.78      8081\n",
      "\n",
      "War\n",
      "              precision    recall  f1-score   support\n",
      "\n",
      "         0.0       0.96      0.99      0.97      7743\n",
      "         1.0       0.04      0.01      0.01       338\n",
      "\n",
      "    accuracy                           0.95      8081\n",
      "   macro avg       0.50      0.50      0.49      8081\n",
      "weighted avg       0.92      0.95      0.93      8081\n",
      "\n",
      "Western\n",
      "              precision    recall  f1-score   support\n",
      "\n",
      "         0.0       0.98      1.00      0.99      7912\n",
      "         1.0       0.00      0.00      0.00       169\n",
      "\n",
      "    accuracy                           0.97      8081\n",
      "   macro avg       0.49      0.50      0.49      8081\n",
      "weighted avg       0.96      0.97      0.97      8081\n",
      "\n"
     ]
    }
   ],
   "source": [
    "for i in range(19):\n",
    "    print(s[i])\n",
    "    print(classification_report(y[:,i], test_pred_bool[i]))"
   ]
  },
  {
   "cell_type": "code",
   "execution_count": 20,
   "metadata": {},
   "outputs": [],
   "source": [
    "model_json = model.to_json()\n",
    "with open(\"model.json\", \"w\") as json_file:\n",
    "    json_file.write(model_json)\n",
    "model.save_weights(\"model.h5\")\n"
   ]
  }
 ],
 "metadata": {
  "kernelspec": {
   "display_name": "Python 3",
   "language": "python",
   "name": "python3"
  },
  "language_info": {
   "codemirror_mode": {
    "name": "ipython",
    "version": 3
   },
   "file_extension": ".py",
   "mimetype": "text/x-python",
   "name": "python",
   "nbconvert_exporter": "python",
   "pygments_lexer": "ipython3",
   "version": "3.8.5"
  }
 },
 "nbformat": 4,
 "nbformat_minor": 4
}
